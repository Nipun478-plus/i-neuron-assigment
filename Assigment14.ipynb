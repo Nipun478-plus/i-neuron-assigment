{
 "cells": [
  {
   "cell_type": "markdown",
   "id": "bfc089c2",
   "metadata": {},
   "source": [
    "###### 1. What does RGBA stand for?\n",
    "RGBA(Red-Green-Blue-Alpha)\n",
    "The RGB color model is extended in this specification to include “alpha” to allow specification of the opacity of a color."
   ]
  },
  {
   "cell_type": "markdown",
   "id": "eaf783c7",
   "metadata": {},
   "source": [
    "###### 2. From the Pillow module, how do you get the RGBA value of any images?\n",
    "Pillow offers the ImageColor. getcolor() function so you don't have to memorize RGBA values for the colors you want to use. This function takes a color name string as its first argument, and the string 'RGBA' as its second argument, and it returns an RGBA tuple."
   ]
  },
  {
   "cell_type": "markdown",
   "id": "12eb3640",
   "metadata": {},
   "source": [
    "###### 3. What is a box tuple, and how does it work? \n",
    "The box. tuple submodule provides read-only access for the tuple userdata type. It allows, for a single tuple: selective retrieval of the field contents, retrieval of information about size, iteration over all the fields, and conversion to a Lua table."
   ]
  },
  {
   "cell_type": "markdown",
   "id": "65bad7d2",
   "metadata": {},
   "source": [
    "###### 4. Use your image and load in notebook then, How can you find out the width and height of an Image object?\n",
    "from PIL import Image\n",
    "\n",
    "#read the image\n",
    "im = Image.open(\"sample-image.png\")\n",
    "\n",
    "#image size\n",
    "width = im.size[0]\n",
    "height = im.size[1]\n",
    "\n",
    "print('Width  of the image is:', width)\n",
    "print('Height of the image is:', height)"
   ]
  },
  {
   "cell_type": "markdown",
   "id": "96b1ed21",
   "metadata": {},
   "source": [
    "###### 5. What method would you call to get Image object for a 100×100 image, excluding the lower-left quarter of it?\n",
    "Assuming that you have an existing Image object for the 100x100 image, one possible method to exclude the lower-left quarter of it is to use the crop() method of the Image object. Here's an example code snippet using the Python Imaging Library (PIL):\n",
    "\n",
    "from PIL import Image\n",
    "\n",
    "#Open the original image\n",
    "\n",
    "img = Image.open(\"original_image.png\")\n",
    "\n",
    "#Crop the image to exclude the lower-left quarter\n",
    "\n",
    "cropped_img = img.crop((0, 50, 50, 100))\n",
    "\n",
    "#Display the cropped image\n",
    "\n",
    "cropped_img.show()\n",
    "\n",
    "In the crop() method, the four arguments represent the left, upper, right, and lower pixel coordinates of the cropping rectangle, respectively. In this case, we're cropping the image to exclude the lower-left quarter, so we specify a cropping rectangle that starts from (0, 50) and ends at (50, 100), which corresponds to the lower-left quarter of the image. The resulting cropped image is stored in the cropped_img variable and can be displayed or saved as needed."
   ]
  },
  {
   "cell_type": "markdown",
   "id": "e7243691",
   "metadata": {},
   "source": [
    "###### 6. After making changes to an Image object, how could you save it as an image file?\n",
    "open() function a string of the filename. Any changes you make to the Image object can be saved to an image file (also of any format) with the save() method. All the rotations, resizing, cropping, drawing, and other image manipulations will be done through method calls on this Image object."
   ]
  },
  {
   "cell_type": "markdown",
   "id": "9bc14efa",
   "metadata": {},
   "source": [
    "###### 7. What module contains Pillow’s shape-drawing code?\n",
    "ImageDraw\n",
    "Pillow provides a drawing module called ImageDraw that you can use to create simple 2D graphics on your Image objects."
   ]
  },
  {
   "cell_type": "markdown",
   "id": "b76b451d",
   "metadata": {},
   "source": [
    "###### 8. Image objects do not have drawing methods. What kind of object does? How do you get this kind of object?\n",
    "The 'ImageDraw' module provides simple 2D graphics support for Image Object. Generally, we use this module to create new images, annotate or retouch existing images and to generate graphics on the fly for web use. The graphics commands support the drawing of shapes and annotation of text."
   ]
  },
  {
   "cell_type": "code",
   "execution_count": null,
   "id": "7b3b294c",
   "metadata": {},
   "outputs": [],
   "source": []
  }
 ],
 "metadata": {
  "kernelspec": {
   "display_name": "Python 3 (ipykernel)",
   "language": "python",
   "name": "python3"
  },
  "language_info": {
   "codemirror_mode": {
    "name": "ipython",
    "version": 3
   },
   "file_extension": ".py",
   "mimetype": "text/x-python",
   "name": "python",
   "nbconvert_exporter": "python",
   "pygments_lexer": "ipython3",
   "version": "3.9.12"
  }
 },
 "nbformat": 4,
 "nbformat_minor": 5
}
